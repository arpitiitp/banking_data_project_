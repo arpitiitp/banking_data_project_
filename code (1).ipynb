{
  "cells": [
    {
      "cell_type": "markdown",
      "metadata": {
        "id": "KX3f9PekBGn6"
      },
      "source": [
        "# Predictive Modeling for Term Deposit Subscription in Bank Marketing\n",
        "\n",
        "Author : Arpit Singh\n",
        "\n",
        "---\n",
        "\n",
        "\n"
      ]
    },
    {
      "cell_type": "markdown",
      "metadata": {
        "id": "xAKSsKs4Bl70"
      },
      "source": [
        "# Introduction"
      ]
    },
    {
      "cell_type": "markdown",
      "metadata": {
        "id": "pvwXxGiGsT2N"
      },
      "source": [
        "**Table of Content**:\n",
        "\n",
        "- Introduction\n",
        "- Load Dataset\n",
        "- Data Cleaning\n",
        "- Exploratory Data Analysis\n",
        "- Data Preprocessing\n",
        "- Modeling\n",
        "- Evaluation\n",
        "- Business Recomendation"
      ]
    },
    {
      "cell_type": "markdown",
      "metadata": {
        "id": "v-x-FibHBoNe"
      },
      "source": [
        "# Library and Load Dataset"
      ]
    },
    {
      "cell_type": "code",
      "execution_count": null,
      "metadata": {
        "id": "wUYcZn6zskaD"
      },
      "outputs": [],
      "source": [
        "import pandas as pd\n",
        "import numpy as np\n",
        "import seaborn as sns\n",
        "import matplotlib.pyplot as plt\n",
        "%matplotlib inline\n",
        "\n",
        "import warnings\n",
        "import math\n",
        "import scipy.stats as ss\n",
        "from scipy.stats import pointbiserialr"
      ]
    },
    {
      "cell_type": "code",
      "execution_count": null,
      "metadata": {
        "id": "SAd6FR8bteHt"
      },
      "outputs": [],
      "source": [
        "import warnings\n",
        "from sklearn.exceptions import ConvergenceWarning\n",
        "warnings.filterwarnings(\"ignore\")\n",
        "warnings.simplefilter(action='ignore', category=FutureWarning)\n",
        "warnings.simplefilter(\"ignore\", category=ConvergenceWarning)"
      ]
    },
    {
      "cell_type": "code",
      "execution_count": null,
      "metadata": {
        "id": "On_H4GBKtbGa"
      },
      "outputs": [],
      "source": [
        "sns.set(style='whitegrid')\n",
        "\n",
        "pd.set_option('display.max_columns', None)\n",
        "pd.set_option('display.max_rows', None)\n",
        "pd.set_option('display.width', None)\n",
        "pd.set_option('display.float_format', lambda x: '%.3f' % x)"
      ]
    },
    {
      "cell_type": "code",
      "execution_count": null,
      "metadata": {
        "id": "vCvSioPvH7wF"
      },
      "outputs": [],
      "source": [
        "from sklearn.preprocessing import StandardScaler\n",
        "from sklearn.metrics import precision_score, recall_score, f1_score, roc_auc_score\n",
        "from sklearn.model_selection import train_test_split, cross_validate, StratifiedKFold\n",
        "import joblib\n",
        "\n",
        "# Model\n",
        "from sklearn.linear_model import LogisticRegression\n",
        "from sklearn.neighbors import KNeighborsClassifier\n",
        "from sklearn.svm import SVC\n",
        "from sklearn.tree import DecisionTreeClassifier\n",
        "from sklearn.ensemble import RandomForestClassifier\n",
        "from sklearn.naive_bayes import GaussianNB\n",
        "from xgboost import XGBClassifier\n",
        "from sklearn.ensemble import GradientBoostingClassifier\n",
        "from lightgbm import LGBMClassifier\n",
        "from catboost import CatBoostClassifier\n",
        "from sklearn.ensemble import AdaBoostClassifier\n",
        "\n",
        "# Evaluation\n",
        "from bayes_opt import BayesianOptimization\n",
        "import shap"
      ]
    },
    {
      "cell_type": "markdown",
      "metadata": {
        "id": "2XOglSVCsmFr"
      },
      "source": [
        "## Read Dataset\n",
        "\n",
        "---\n",
        "\n"
      ]
    },
    {
      "cell_type": "code",
      "execution_count": null,
      "metadata": {
        "colab": {
          "base_uri": "https://localhost:8080/"
        },
        "id": "QStz00Dzspcw",
        "outputId": "e358d991-f890-4ff5-caa8-33248ee9bd79"
      },
      "outputs": [],
      "source": [
        "df = pd.read_csv('/content/Predictive-Modeling-for-Term-Deposit-Subscription-in-Bank-Marketing/dataset/dataset.csv')\n",
        "df.shape"
      ]
    },
    {
      "cell_type": "code",
      "execution_count": null,
      "metadata": {
        "colab": {
          "base_uri": "https://localhost:8080/",
          "height": 206
        },
        "id": "Q6hBKNyistRS",
        "outputId": "15c08531-a5d9-4926-ea07-3fc85a2c8d3e"
      },
      "outputs": [],
      "source": [
        "df.sample(5)"
      ]
    },
    {
      "cell_type": "code",
      "execution_count": null,
      "metadata": {
        "colab": {
          "base_uri": "https://localhost:8080/"
        },
        "id": "-340twQbs3In",
        "outputId": "28fc908b-1c50-49b0-ad48-b5a9d56c19fd"
      },
      "outputs": [],
      "source": [
        "df.info()"
      ]
    },
    {
      "cell_type": "markdown",
      "metadata": {
        "id": "--keFTz9wLl5"
      },
      "source": [
        "## Dataset Overview\n",
        "\n",
        "\n",
        "---\n",
        "\n"
      ]
    },
    {
      "cell_type": "markdown",
      "metadata": {
        "id": "3nLoj5t_2ukm"
      },
      "source": [
        "### Feature Segmentation"
      ]
    },
    {
      "cell_type": "markdown",
      "metadata": {
        "id": "du4mnB6sveXQ"
      },
      "source": [
        "#### Client Data\n",
        "\n",
        "| **Feature** | **Description**                                                                                        |\n",
        "|------------|--------------------------------------------------------------------------------------------------------|\n",
        "| `ID`       | ID of client                                                                                           |\n",
        "| `age`      | Age of client                                                                                          |\n",
        "| `job`      | Type of job                                                                                            |\n",
        "| `marital`  | Marital status                                                                                         |\n",
        "| `education`| Education level                                                                                        |\n",
        "| `default`  | Has credit in default?                                                                                |\n",
        "| `balance`  | Balance in account                                                                                     |\n",
        "| `housing`  | Has housing loan?                                                                                      |\n",
        "| `loan`     | Has personal loan?                                                                                     |"
      ]
    },
    {
      "cell_type": "markdown",
      "metadata": {
        "id": "aSy2JDTiV50D"
      },
      "source": [
        "#### Latest Campaign Interaction Data\n",
        "\n",
        "| **Feature** | **Description**                                                                                        |\n",
        "|------------|--------------------------------------------------------------------------------------------------------|\n",
        "| `contact`  | Contact communication type                                                                             |\n",
        "| `day`      | Date digit of last contact                                                                             |\n",
        "| `month`    | Last contact month of year                                                                             |\n",
        "| `duration` | Last contact duration, in seconds"
      ]
    },
    {
      "cell_type": "markdown",
      "metadata": {
        "id": "qn8tkzUFr0yB"
      },
      "source": [
        "#### Historical Campaign Interaction Data\n",
        "\n",
        "| **Feature** | **Description**                                                                                        |\n",
        "|------------|--------------------------------------------------------------------------------------------------------|\n",
        "| `campaign` | Number of contacts performed during this campaign and for this client                                   |\n",
        "| `pdays`    | Number of days since the client was last contacted from a previous campaign                              |\n",
        "| `previous` | Number of contacts performed before this campaign and for this client                                   |\n",
        "| `poutcome` | Outcome of the previous marketing campaign                                                             |"
      ]
    },
    {
      "cell_type": "markdown",
      "metadata": {
        "id": "HOLJpfLgs0Zl"
      },
      "source": [
        "#### Output Target\n",
        "\n",
        "| **Feature** | **Description**                                                                                        |\n",
        "|------------|--------------------------------------------------------------------------------------------------------|\n",
        "| `subscribed`| Has the client subscribed a term deposit?                                                              |\n"
      ]
    },
    {
      "cell_type": "markdown",
      "metadata": {
        "id": "TVEHJuAE0lEQ"
      },
      "source": [
        "### Overview"
      ]
    },
    {
      "cell_type": "code",
      "execution_count": null,
      "metadata": {
        "colab": {
          "base_uri": "https://localhost:8080/"
        },
        "id": "HXsWMS18wQcQ",
        "outputId": "3e6d980c-c766-4059-a322-72e7201457ff"
      },
      "outputs": [],
      "source": [
        "numerical_feats = df.dtypes[df.dtypes != \"object\"].index\n",
        "categorical_feats = df.dtypes[df.dtypes == \"object\"].index\n",
        "\n",
        "print(\"Jumlah fitur numerik:\", len(numerical_feats))\n",
        "print(\"Jumlah fitur kategorikal:\", len(categorical_feats))"
      ]
    },
    {
      "cell_type": "code",
      "execution_count": null,
      "metadata": {
        "colab": {
          "base_uri": "https://localhost:8080/",
          "height": 614
        },
        "id": "226yauUtwRTL",
        "outputId": "426905e6-7c0f-42fb-e974-8ebcffe248c1"
      },
      "outputs": [],
      "source": [
        "list_item = []\n",
        "for col in df.columns:\n",
        "    list_item.append([col, df[col].dtype, df[col].isna().sum(), round(100*df[col].isna().sum()/len(df[col]), 2), df[col].nunique(), df[col].unique()[:5]])\n",
        "desc_df = pd.DataFrame(data=list_item, columns='feature, data_type, null_values, null_percentage, unique_values, unique_sample'.split(\",\"))\n",
        "desc_df"
      ]
    },
    {
      "cell_type": "code",
      "execution_count": null,
      "metadata": {
        "colab": {
          "base_uri": "https://localhost:8080/"
        },
        "id": "oErwOIQNPe0g",
        "outputId": "82b3c8ad-a03d-4aa8-9075-28ad55bc0141"
      },
      "outputs": [],
      "source": [
        "for feature in categorical_feats:\n",
        "    print(\"{} have {} unique values\".format(feature, df[feature].nunique()))\n",
        "    print(\"{} values: {}\".format(feature, df[feature].unique()))\n",
        "    print('-' * 100)"
      ]
    },
    {
      "cell_type": "code",
      "execution_count": null,
      "metadata": {
        "colab": {
          "base_uri": "https://localhost:8080/"
        },
        "id": "on0q_7waQhZq",
        "outputId": "d4fb2885-556a-4c1d-cea0-3491d824c9ed"
      },
      "outputs": [],
      "source": [
        "df.isna().sum().sum()"
      ]
    },
    {
      "cell_type": "code",
      "execution_count": null,
      "metadata": {
        "colab": {
          "base_uri": "https://localhost:8080/"
        },
        "id": "IaHjUuruwWsh",
        "outputId": "56af52c9-eff8-4c4a-a902-ee7d520251b9"
      },
      "outputs": [],
      "source": [
        "df['ID'].duplicated().sum()"
      ]
    },
    {
      "cell_type": "markdown",
      "metadata": {
        "id": "w-K1FnkwuQJM"
      },
      "source": [
        "# Data Cleaning"
      ]
    },
    {
      "cell_type": "markdown",
      "metadata": {
        "id": "cTV_huYnqtUY"
      },
      "source": [
        "Menghapus kolom `ID` dari DataFrame. Ini dilakukan karena kolom `ID` tidak diperlukan dalam analisis atau pemodelan selanjutnya, karena hanya merupakan identifikasi unik untuk setiap entri dan tidak memberikan informasi yang relevan untuk tujuan analisis."
      ]
    },
    {
      "cell_type": "code",
      "execution_count": null,
      "metadata": {
        "id": "xHRrWQBEuSuK"
      },
      "outputs": [],
      "source": [
        "df = df.drop(columns=['ID'], axis=1)\n",
        "numerical_feats = numerical_feats.drop('ID')"
      ]
    },
    {
      "cell_type": "markdown",
      "metadata": {
        "id": "ji4K6KtOByI1"
      },
      "source": [
        "# Exploratory Data Analysis"
      ]
    },
    {
      "cell_type": "code",
      "execution_count": null,
      "metadata": {
        "id": "W1kMMsmqt-Fv"
      },
      "outputs": [],
      "source": [
        "df_eda = df.copy()"
      ]
    },
    {
      "cell_type": "markdown",
      "metadata": {
        "id": "M0E65GtxyiAn"
      },
      "source": [
        "### Function"
      ]
    },
    {
      "cell_type": "code",
      "execution_count": null,
      "metadata": {
        "id": "XG--IKhLt5Xd"
      },
      "outputs": [],
      "source": [
        "plt.style.use(\"seaborn-whitegrid\")\n",
        "plt.rc(\"figure\", autolayout=True)\n",
        "plt.rc(\"axes\", labelweight=\"bold\", labelsize=\"large\", titleweight=\"bold\", titlesize=14, titlepad=10)\n",
        "\n",
        "def num_plot(df, col, figsize=(8, 5)):\n",
        "    fig, ax = plt.subplots(2, 1, sharex=True, figsize=figsize,gridspec_kw={\"height_ratios\": (.2, .8)})\n",
        "    ax[0].set_title(col + ' Distribution', fontsize=18)\n",
        "    sns.boxplot(x=col, data=df, ax=ax[0],color = \"#1D8EF5\")\n",
        "    ax[0].set(yticks=[])\n",
        "    sns.histplot(x=col, data=df, ax=ax[1],color = \"#33AAFF\", edgecolor=\"#1D1EA2\")\n",
        "    ax[1].set_xlabel(col, fontsize=16)\n",
        "    plt.axvline(df[col].mean(), color='darkgreen', linestyle='--',linewidth=2.2, label='mean=' + str(np.round(df[col].mean(),1)))\n",
        "    plt.axvline(df[col].median(), color='red', linestyle='--',linewidth=2.2, label='median='+ str(np.round(df[col].median(),1)))\n",
        "    plt.axvline(df[col].mode()[0], color='purple', linestyle='--',linewidth=2.2, label='mode='+ str(np.round(df[col].mode()[0],1)))\n",
        "\n",
        "    q1 = df[col].quantile(0.25)\n",
        "    q3 = df[col].quantile(0.75)\n",
        "    plt.axvline(q1, color='orange', linestyle='--',linewidth=2.2, label='Q1=' + str(np.round(q1,1)))\n",
        "    plt.axvline(q3, color='blue', linestyle='--',linewidth=2.2, label='Q3='+ str(np.round(q3,1)))\n",
        "\n",
        "    plt.legend(bbox_to_anchor=(1, 1.03), ncol=1, fontsize=17, fancybox=True, shadow=True, frameon=True)\n",
        "    plt.tight_layout()\n",
        "    plt.show()"
      ]
    },
    {
      "cell_type": "code",
      "execution_count": null,
      "metadata": {
        "id": "CPu-brgSzdNh"
      },
      "outputs": [],
      "source": [
        "def top_freq_percentage(dataset, feats):\n",
        "  top_freq_percentages = {}\n",
        "  top_categories = {}\n",
        "\n",
        "  for feature in feats:\n",
        "      value_counts = dataset[feature].value_counts()\n",
        "      top_category = value_counts.idxmax()\n",
        "\n",
        "      top_freq_percentage = (value_counts[top_category] / len(dataset)) * 100\n",
        "      top_freq_percentages[feature] = top_freq_percentage\n",
        "      top_categories[feature] = top_category\n",
        "\n",
        "  top_freq_percentages_df = pd.DataFrame.from_dict(top_freq_percentages, orient='index', columns=['top_frequency_percentage']).sort_values('top_frequency_percentage', ascending=False)\n",
        "  top_categories_df = pd.DataFrame.from_dict(top_categories, orient='index', columns=['top_category'])\n",
        "\n",
        "  result_df = pd.concat([top_freq_percentages_df, top_categories_df], axis=1)\n",
        "  return result_df"
      ]
    },
    {
      "cell_type": "code",
      "execution_count": null,
      "metadata": {
        "id": "mYd8PGo6AAOm"
      },
      "outputs": [],
      "source": [
        "def calculate_outliers(column):\n",
        "  # Calculate the IQR\n",
        "  Q1 = column.quantile(0.25)\n",
        "  Q3 = column.quantile(0.75)\n",
        "  IQR = Q3 - Q1\n",
        "\n",
        "  # Define lower and upper bounds\n",
        "  lower_bound = Q1 - 1.5 * IQR\n",
        "  upper_bound = Q3 + 1.5 * IQR\n",
        "\n",
        "  # Filter the column to count outliers\n",
        "  outliers = column[(column < lower_bound) | (column > upper_bound)]\n",
        "\n",
        "  # Calculate percentage of outliers\n",
        "  percentage_outliers = (outliers.shape[0] / column.shape[0]) * 100\n",
        "\n",
        "  return outliers.shape[0], percentage_outliers"
      ]
    },
    {
      "cell_type": "markdown",
      "metadata": {
        "id": "TLxosYPSx3tU"
      },
      "source": [
        "### Numerical Feature"
      ]
    },
    {
      "cell_type": "code",
      "execution_count": null,
      "metadata": {
        "colab": {
          "base_uri": "https://localhost:8080/",
          "height": 300
        },
        "id": "QGbEee8QytN1",
        "outputId": "9be7e56b-3529-4069-9785-bd78a8c9553e"
      },
      "outputs": [],
      "source": [
        "df_eda[numerical_feats].describe()"
      ]
    },
    {
      "cell_type": "code",
      "execution_count": null,
      "metadata": {
        "colab": {
          "base_uri": "https://localhost:8080/",
          "height": 269
        },
        "id": "vG-VwnjmzTja",
        "outputId": "52cb66cf-28e5-4502-8383-bb194d406807"
      },
      "outputs": [],
      "source": [
        "result_df = top_freq_percentage(df_eda, numerical_feats)\n",
        "result_df"
      ]
    },
    {
      "cell_type": "code",
      "execution_count": null,
      "metadata": {
        "colab": {
          "base_uri": "https://localhost:8080/",
          "height": 238
        },
        "id": "cf4MrjyC2Byg",
        "outputId": "349a0d59-5505-47a5-869a-26b5a8ca073c"
      },
      "outputs": [],
      "source": [
        "outliers_info = []\n",
        "\n",
        "for feature in numerical_feats:\n",
        "  num_outliers, percentage_outliers = calculate_outliers(df_eda[feature])\n",
        "\n",
        "  if percentage_outliers > 0:\n",
        "    outliers_info.append({\n",
        "        'feature': feature,\n",
        "        'outlier_count': num_outliers,\n",
        "        'percentage_outliers': percentage_outliers\n",
        "    })\n",
        "\n",
        "outliers_df = pd.DataFrame(outliers_info).sort_values(by='percentage_outliers', ascending=False)\n",
        "outliers_df"
      ]
    },
    {
      "cell_type": "markdown",
      "metadata": {
        "id": "zLiMczix2PUC"
      },
      "source": [
        "#### Skewness and Kurtosis\n"
      ]
    },
    {
      "cell_type": "code",
      "execution_count": null,
      "metadata": {
        "colab": {
          "base_uri": "https://localhost:8080/",
          "height": 269
        },
        "id": "pZ-B-zoM2PUC",
        "outputId": "d69e8ca3-1e22-4d6b-a243-9362a526de8e"
      },
      "outputs": [],
      "source": [
        "results = []\n",
        "for col in numerical_feats:\n",
        "    skewness = df_eda[col].skew()\n",
        "    kurtosis = df_eda[col].kurt()\n",
        "\n",
        "    # Determine skewness type\n",
        "    if skewness > 0:\n",
        "        skew_type = 'positive'\n",
        "    elif skewness < 0:\n",
        "        skew_type = 'negative'\n",
        "    else:\n",
        "        skew_type = 'no skew'\n",
        "    results.append({'Column': col, 'Skewness': skewness, 'Kurtosis': kurtosis, 'Skew_Type': skew_type})\n",
        "\n",
        "results_df = pd.DataFrame(results)\n",
        "results_df = results_df.reindex(results_df['Skewness'].abs().sort_values(ascending=False).index)\n",
        "results_df"
      ]
    },
    {
      "cell_type": "markdown",
      "metadata": {
        "id": "XpYtAhhIvQd0"
      },
      "source": [
        "#### Variation and Central Tendencies\n",
        "\n"
      ]
    },
    {
      "cell_type": "code",
      "execution_count": null,
      "metadata": {
        "colab": {
          "base_uri": "https://localhost:8080/",
          "height": 501
        },
        "id": "detCKH-8ubKW",
        "outputId": "84a55429-8429-4a8e-eaa6-1eb8d226a268"
      },
      "outputs": [],
      "source": [
        "num_plot(df_eda, 'age')"
      ]
    },
    {
      "cell_type": "code",
      "execution_count": null,
      "metadata": {
        "colab": {
          "base_uri": "https://localhost:8080/",
          "height": 501
        },
        "id": "3cXLCJrTu84z",
        "outputId": "6d530e77-c618-4569-ca0a-aa9c3a2e0140"
      },
      "outputs": [],
      "source": [
        "num_plot(df_eda, 'balance')"
      ]
    },
    {
      "cell_type": "code",
      "execution_count": null,
      "metadata": {
        "colab": {
          "base_uri": "https://localhost:8080/",
          "height": 501
        },
        "id": "qudfF5C8vFP7",
        "outputId": "250a8a33-382d-4c22-850a-ae3df7047491"
      },
      "outputs": [],
      "source": [
        "num_plot(df_eda, 'day')"
      ]
    },
    {
      "cell_type": "code",
      "execution_count": null,
      "metadata": {
        "colab": {
          "base_uri": "https://localhost:8080/",
          "height": 501
        },
        "id": "i-FpDVdsvHNW",
        "outputId": "f3be7397-2564-472c-bc62-9bbda34f443c"
      },
      "outputs": [],
      "source": [
        "num_plot(df_eda, 'duration')"
      ]
    },
    {
      "cell_type": "code",
      "execution_count": null,
      "metadata": {
        "colab": {
          "base_uri": "https://localhost:8080/",
          "height": 501
        },
        "id": "pC6AVhy4vHpg",
        "outputId": "b8223b2e-83c7-442b-ee13-c7cc3d57404f"
      },
      "outputs": [],
      "source": [
        "num_plot(df_eda, 'campaign')"
      ]
    },
    {
      "cell_type": "code",
      "execution_count": null,
      "metadata": {
        "colab": {
          "base_uri": "https://localhost:8080/",
          "height": 501
        },
        "id": "M-5uaovZvWDC",
        "outputId": "b82db07f-6ba6-482c-ee22-d327a1b533b0"
      },
      "outputs": [],
      "source": [
        "num_plot(df_eda, 'pdays')"
      ]
    },
    {
      "cell_type": "code",
      "execution_count": null,
      "metadata": {
        "colab": {
          "base_uri": "https://localhost:8080/",
          "height": 501
        },
        "id": "8xQlca4CvUGZ",
        "outputId": "6756ea18-f312-44f6-b1b0-f9afe0d9a9c1"
      },
      "outputs": [],
      "source": [
        "num_plot(df_eda, 'previous')"
      ]
    },
    {
      "cell_type": "markdown",
      "metadata": {
        "id": "K2ZmG8M6zh_f"
      },
      "source": [
        "**Key Takeaways** :\n",
        "Customer Segmentation\n",
        "\n",
        "The average age of clients is 41 years, with an average balance of 1,364. There is significant variation in client balances, indicating substantial differences in financial holdings.\n",
        "Negative Balance\n",
        "\n",
        "8.42% of clients have a negative balance, indicating a credit risk that the bank needs to monitor to ensure financial stability. Effective risk management is necessary to manage this potential credit risk.\n",
        "Previous Contact\n",
        "\n",
        "81.92% of clients have had no previous contact (pdays = -1), indicating potential opportunities to increase customer interaction.\n",
        "Call Duration\n",
        "\n",
        "The average call duration is 4 minutes, with most calls being brief. The majority of clients, around 75%, have been contacted 2-3 times during the campaign."
      ]
    },
    {
      "cell_type": "markdown",
      "metadata": {
        "id": "M03Dbkshx4oR"
      },
      "source": [
        "### Categorical Feature"
      ]
    },
    {
      "cell_type": "code",
      "execution_count": null,
      "metadata": {
        "colab": {
          "base_uri": "https://localhost:8080/",
          "height": 175
        },
        "id": "-6clGblGyxhu",
        "outputId": "e8587e75-fca4-4fe9-a623-44cfe4246ab0"
      },
      "outputs": [],
      "source": [
        "df[categorical_feats].describe()"
      ]
    },
    {
      "cell_type": "code",
      "execution_count": null,
      "metadata": {
        "colab": {
          "base_uri": "https://localhost:8080/",
          "height": 363
        },
        "id": "Fbj-25tjx6B0",
        "outputId": "d2064fd0-55e8-4332-a285-7e9abda90381"
      },
      "outputs": [],
      "source": [
        "result_df = top_freq_percentage(df_eda, categorical_feats)\n",
        "result_df"
      ]
    },
    {
      "cell_type": "markdown",
      "metadata": {
        "id": "QDoTB-ePwKjd"
      },
      "source": [
        "## Bivariate Analysis"
      ]
    },
    {
      "cell_type": "markdown",
      "metadata": {
        "id": "-gVOTrfp8DYO"
      },
      "source": []
    },
    {
      "cell_type": "markdown",
      "metadata": {
        "id": "dS74HK4Z0C0v"
      },
      "source": [
        "### Numerical Feature"
      ]
    },
    {
      "cell_type": "code",
      "execution_count": null,
      "metadata": {
        "colab": {
          "base_uri": "https://localhost:8080/",
          "height": 1000
        },
        "id": "YusHx-CX0HgH",
        "outputId": "6aec3234-f5f6-4dd9-bb58-cbff97fc6922"
      },
      "outputs": [],
      "source": [
        "plt.figure(figsize=(14, 10))\n",
        "for i in range(0, len(numerical_feats)):\n",
        "    plt.subplot(3, 3, i+1)\n",
        "    sns.kdeplot(df_eda, x=df_eda[numerical_feats[i]], hue=df_eda['subscribed'], fill=True).set(title=f'{numerical_feats[i]} Distribution Based Subscribed')\n",
        "    plt.tight_layout()"
      ]
    },
    {
      "cell_type": "markdown",
      "metadata": {
        "id": "4gaFs3sX0HtH"
      },
      "source": [
        "### Categorical Feature"
      ]
    },
    {
      "cell_type": "code",
      "execution_count": null,
      "metadata": {
        "id": "lPYHyywb16KX"
      },
      "outputs": [],
      "source": [
        "def plot_subscription_counts(feature, df, figsize=(7, 5), custom_order=False):\n",
        "    plt.figure(figsize=figsize)\n",
        "\n",
        "    # Calculate counts for each unique value of the feature\n",
        "    feature_counts = df.groupby(feature)['subscribed'].value_counts().unstack(fill_value=0)\n",
        "\n",
        "    # Sort by total counts\n",
        "    sorted_index = feature_counts.sum(axis=1).sort_values(ascending=False).index\n",
        "    feature_counts = feature_counts.loc[sorted_index]\n",
        "\n",
        "    # Calculate percentages\n",
        "    total_counts = feature_counts.sum(axis=1)\n",
        "    yes_percentages = feature_counts['yes'] / total_counts * 100\n",
        "    no_percentages = feature_counts['no'] / total_counts * 100\n",
        "\n",
        "    # Define colors with transparency\n",
        "    yes_color = sns.color_palette()[0] + (0.5,)\n",
        "    no_color = sns.color_palette()[1] + (0.5,)\n",
        "    edge_color = 'lightgray'  # Change the color here\n",
        "\n",
        "    if custom_order:\n",
        "        custom_order = ['jan', 'feb', 'mar', 'apr', 'may', 'jun', 'jul', 'aug', 'sep', 'oct', 'nov', 'dec']\n",
        "        # Reindex feature_counts based on custom_order\n",
        "        feature_counts = feature_counts.reindex(custom_order)\n",
        "\n",
        "    # Plot yes percentages with outline stroke\n",
        "    plt.bar(feature_counts.index, yes_percentages, color=yes_color, label='Yes', width=0.4, edgecolor=edge_color)\n",
        "\n",
        "    # Plot no percentages with outline stroke\n",
        "    plt.bar(feature_counts.index, no_percentages, bottom=yes_percentages, color=no_color, label='No', width=0.4, edgecolor=edge_color)\n",
        "\n",
        "    plt.title(f\"Subscription Counts by {feature}\")\n",
        "    plt.xlabel(feature)\n",
        "    plt.ylabel(\"Percentage\")\n",
        "    plt.legend(title='Subscribed', labels=['Yes', 'No'])\n",
        "    plt.xticks(rotation=45)\n",
        "\n",
        "    # Display percentages at the center of each bar\n",
        "    for idx, (value, yes_percentage, no_percentage) in enumerate(zip(feature_counts.index, yes_percentages, no_percentages)):\n",
        "        plt.text(idx, yes_percentage / 2, f'{yes_percentage:.1f}%', ha='center', va='center')\n",
        "        plt.text(idx, yes_percentage + no_percentage / 2, f'{no_percentage:.1f}%', ha='center', va='center')\n",
        "\n",
        "    # Print total counts of each column after reindexing\n",
        "    for idx, (index, count) in enumerate(zip(sorted_index, total_counts), start=1):\n",
        "        print(f\"{idx}. {index}: {count}\")\n",
        "    print()\n",
        "\n",
        "    plt.grid(False)  # Remove grid lines\n",
        "    plt.show()"
      ]
    },
    {
      "cell_type": "code",
      "execution_count": null,
      "metadata": {
        "colab": {
          "base_uri": "https://localhost:8080/",
          "height": 553
        },
        "id": "MT3Nc2NByiLH",
        "outputId": "d4316575-15cb-4de7-a2a7-122cdc6c0806"
      },
      "outputs": [],
      "source": [
        "plot_subscription_counts('default', df_eda)"
      ]
    },
    {
      "cell_type": "code",
      "execution_count": null,
      "metadata": {
        "colab": {
          "base_uri": "https://localhost:8080/",
          "height": 553
        },
        "id": "LOEnamtt0EYp",
        "outputId": "145edd19-103b-4e0e-a088-a8009964ce3a"
      },
      "outputs": [],
      "source": [
        "plot_subscription_counts('loan', df_eda)"
      ]
    },
    {
      "cell_type": "code",
      "execution_count": null,
      "metadata": {
        "colab": {
          "base_uri": "https://localhost:8080/",
          "height": 553
        },
        "id": "tARCSsEr2n9h",
        "outputId": "029860e0-8a84-4b95-aa70-34617e8e9a26"
      },
      "outputs": [],
      "source": [
        "plot_subscription_counts('housing', df_eda)"
      ]
    },
    {
      "cell_type": "code",
      "execution_count": null,
      "metadata": {
        "colab": {
          "base_uri": "https://localhost:8080/",
          "height": 588
        },
        "id": "xxKyIxqe0QO2",
        "outputId": "d82007ba-36e2-497e-e4cb-714d7f57efc4"
      },
      "outputs": [],
      "source": [
        "plot_subscription_counts('poutcome', df_eda)"
      ]
    },
    {
      "cell_type": "code",
      "execution_count": null,
      "metadata": {
        "colab": {
          "base_uri": "https://localhost:8080/",
          "height": 570
        },
        "id": "s3vzM8L50TCx",
        "outputId": "494837e4-758a-4937-93b3-6326d141a1f4"
      },
      "outputs": [],
      "source": [
        "plot_subscription_counts('contact', df_eda)"
      ]
    },
    {
      "cell_type": "code",
      "execution_count": null,
      "metadata": {
        "colab": {
          "base_uri": "https://localhost:8080/",
          "height": 570
        },
        "id": "7BMeM07T0TUX",
        "outputId": "3bcafacd-eaec-4c63-ec8a-c05ac315ce1e"
      },
      "outputs": [],
      "source": [
        "plot_subscription_counts('marital', df_eda)"
      ]
    },
    {
      "cell_type": "code",
      "execution_count": null,
      "metadata": {
        "colab": {
          "base_uri": "https://localhost:8080/",
          "height": 588
        },
        "id": "Fm9t8yvU1CPh",
        "outputId": "0d89fc17-80a7-4ea6-ba90-d57c26ebed5f"
      },
      "outputs": [],
      "source": [
        "plot_subscription_counts('education', df_eda)"
      ]
    },
    {
      "cell_type": "code",
      "execution_count": null,
      "metadata": {
        "colab": {
          "base_uri": "https://localhost:8080/",
          "height": 747
        },
        "id": "YP-hPZ6h1HRl",
        "outputId": "2920d281-6131-44d6-8460-501c219cd44c"
      },
      "outputs": [],
      "source": [
        "plot_subscription_counts('month', df_eda, (22,5), True)"
      ]
    },
    {
      "cell_type": "code",
      "execution_count": null,
      "metadata": {
        "colab": {
          "base_uri": "https://localhost:8080/",
          "height": 574
        },
        "id": "lTpCx-8A2Xh-",
        "outputId": "48203e19-525d-497c-b55e-169cf737f6b8"
      },
      "outputs": [],
      "source": [
        "plot_subscription_counts('job', df_eda, (22,5))"
      ]
    },
    {
      "cell_type": "markdown",
      "metadata": {
        "id": "C35KMEROwMn1"
      },
      "source": [
        "## Multivariate Analysis"
      ]
    },
    {
      "cell_type": "code",
      "execution_count": null,
      "metadata": {
        "id": "GussMoHX8-nU"
      },
      "outputs": [],
      "source": [
        "# Create a dictionary to map 'no' to 0 and 'yes' to 1\n",
        "subscribed_mapping = {'no': 0, 'yes': 1}\n",
        "\n",
        "# Apply the mapping to the 'subscribed' column and store it in a new variable\n",
        "subscribed_encoded = df_eda['subscribed'].map(subscribed_mapping)\n",
        "\n",
        "# Create a new DataFrame with numerical features and the encoded 'subscribed'\n",
        "combined_df = pd.concat([df_eda[numerical_feats], subscribed_encoded], axis=1)"
      ]
    },
    {
      "cell_type": "code",
      "execution_count": null,
      "metadata": {
        "colab": {
          "base_uri": "https://localhost:8080/",
          "height": 1000
        },
        "id": "baX7OrW2BLUP",
        "outputId": "a2cb5a98-5fa5-4993-b958-2bcde36a218c"
      },
      "outputs": [],
      "source": [
        "sns.pairplot(combined_df,hue='subscribed',corner=True)"
      ]
    },
    {
      "cell_type": "code",
      "execution_count": null,
      "metadata": {
        "colab": {
          "base_uri": "https://localhost:8080/",
          "height": 501
        },
        "id": "T-3Jcu3o1AXt",
        "outputId": "9cdc2fb9-e287-42f5-cebf-31fd9ef92fe9"
      },
      "outputs": [],
      "source": [
        "# Calculate the correlation matrix\n",
        "correlation_matrix = combined_df.corr()\n",
        "\n",
        "# Create a mask to hide the upper triangle\n",
        "mask = np.triu(np.ones_like(correlation_matrix, dtype=bool), k=1)\n",
        "\n",
        "# Plot the heatmap\n",
        "plt.figure(figsize=(8, 5))\n",
        "sns.heatmap(correlation_matrix, cmap='Blues', annot=True, fmt='.2f', mask=mask)\n",
        "plt.title('Correlation Matrix of Numerical Features')\n",
        "plt.grid(False)  # Remove grid lines\n",
        "plt.show()"
      ]
    },
    {
      "cell_type": "markdown",
      "metadata": {
        "id": "ZCk1symGCGQm"
      },
      "source": [
        "# Feature Selection"
      ]
    },
    {
      "cell_type": "markdown",
      "metadata": {
        "id": "TsqhUAEZ2md8"
      },
      "source": [
        "### Numerical Feature"
      ]
    },
    {
      "cell_type": "code",
      "execution_count": null,
      "metadata": {
        "colab": {
          "base_uri": "https://localhost:8080/",
          "height": 601
        },
        "id": "lL8eowR82mH5",
        "outputId": "f4ea8867-40f0-4d2f-a717-acdf76ac72a0"
      },
      "outputs": [],
      "source": [
        "# Drop the 'subscribed' column from the DataFrame\n",
        "numerical_features = combined_df.drop(columns=['subscribed'])\n",
        "\n",
        "# Create an empty DataFrame to store the correlation coefficients\n",
        "correlation_matrix = pd.DataFrame(index=numerical_features.columns, columns=['Point_Biserial_Correlation'])\n",
        "\n",
        "# Iterate over each numerical feature\n",
        "for feature in numerical_features.columns:\n",
        "    # Compute the point biserial correlation coefficient with respect to the target variable\n",
        "    pb_corr, _ = pointbiserialr(numerical_features[feature], combined_df['subscribed'])\n",
        "    # Store the correlation coefficient in the DataFrame\n",
        "    correlation_matrix.loc[feature, 'Point_Biserial_Correlation'] = pb_corr\n",
        "\n",
        "# Convert the dtype of the correlation coefficients to float64\n",
        "correlation_matrix = correlation_matrix.astype('float64')\n",
        "\n",
        "# Sort the correlation matrix by correlation values\n",
        "correlation_matrix = correlation_matrix.sort_values(by='Point_Biserial_Correlation', ascending=False)\n",
        "\n",
        "# Plot the heatmap\n",
        "plt.figure(figsize=(5, 6))\n",
        "sns.heatmap(correlation_matrix, cmap='coolwarm', annot=True, fmt=\".2f\", linewidths=0.5)\n",
        "plt.title('Point Biserial Correlation Heatmap')\n",
        "plt.xlabel('Target Variable: subscribed')\n",
        "plt.ylabel('Numerical Features')\n",
        "plt.show()"
      ]
    },
    {
      "cell_type": "markdown",
      "metadata": {
        "id": "1iEWNlGUCzXn"
      },
      "source": [
        "### Categorical Feature"
      ]
    },
    {
      "cell_type": "code",
      "execution_count": null,
      "metadata": {
        "id": "pBhR9M5iCwxT"
      },
      "outputs": [],
      "source": [
        "def categorical_stats(confusion_matrix):\n",
        "    \"\"\" calculate Cramers V statistic for categorical-categorical association.\n",
        "        uses correction from Bergsma and Wicher,\n",
        "        Journal of the Korean Statistical Society 42 (2013): 323-328\n",
        "    \"\"\"\n",
        "    if isinstance(confusion_matrix, pd.DataFrame):\n",
        "        confusion_matrix = confusion_matrix.to_numpy()  # Convert DataFrame to numpy array\n",
        "\n",
        "    if confusion_matrix.shape[0] == 1 or confusion_matrix.shape[1] == 1:\n",
        "        # Handle edge case where one of the dimensions is 1\n",
        "        return np.nan, np.nan\n",
        "\n",
        "    chi2, p_value, _, _ = ss.chi2_contingency(confusion_matrix)\n",
        "    n = confusion_matrix.sum()\n",
        "    phi2 = chi2 / n\n",
        "    r, k = confusion_matrix.shape\n",
        "    phi2corr = max(0, phi2 - ((k - 1) * (r - 1)) / (n - 1))\n",
        "    rcorr = r - ((r - 1) ** 2) / (n - 1)\n",
        "    kcorr = k - ((k - 1) ** 2) / (n - 1)\n",
        "    return np.sqrt(phi2corr / min((kcorr - 1), (rcorr - 1))), p_value"
      ]
    },
    {
      "cell_type": "code",
      "execution_count": null,
      "metadata": {
        "colab": {
          "base_uri": "https://localhost:8080/",
          "height": 332
        },
        "id": "8hBgk9-eCx5w",
        "outputId": "dfa7d692-5637-4f79-9c6d-b1590b0f0c6c"
      },
      "outputs": [],
      "source": [
        "results = []\n",
        "for col in categorical_feats:\n",
        "  if col != 'subscribed':\n",
        "    confusion_matrix = pd.crosstab(df_eda[col], df_eda['subscribed'])\n",
        "    cramers_v, p_value = categorical_stats(confusion_matrix)\n",
        "    results.append({'Column': col, 'Cramers_V': cramers_v, 'P_value': p_value})\n",
        "\n",
        "# Define thresholds for significance\n",
        "p_value_threshold = 0.05\n",
        "cramers_v_threshold = 0.1\n",
        "\n",
        "# Function to determine significance based on thresholds\n",
        "def is_significant(p_value, cramers_v):\n",
        "    return (p_value < p_value_threshold) and (cramers_v > cramers_v_threshold)\n",
        "\n",
        "results_df = pd.DataFrame(results)\n",
        "# Add a new column to indicate significance\n",
        "results_df['Significance & Correlated'] = results_df.apply(lambda row: is_significant(row['P_value'], row['Cramers_V']), axis=1)\n",
        "results_df = results_df.reindex(results_df['Cramers_V'].sort_values(ascending=False).index)\n",
        "results_df"
      ]
    },
    {
      "cell_type": "markdown",
      "metadata": {
        "id": "Y-NRN0OMC24E"
      },
      "source": [
        "Based on Dai et al. (2021):\n",
        "\n",
        "- Weak: Cramér's V > 0.05\n",
        "- Moderate: Cramér's V > 0.10\n",
        "- Strong: Cramér's V > 0.15\n",
        "- Very Strong: Cramér's V > 0.25\n",
        "\n",
        "Ref:\n",
        "Dai, J., Teng, L., Zhao, L., & Zou, H. (2021). The combined analgesic effect of pregabalin and morphine in the treatment of pancreatic cancer pain, a retrospective study. Cancer Medicine, 10(5), 1738–1744. https://doi.org/10.1002/cam4.3779"
      ]
    },
    {
      "cell_type": "code",
      "execution_count": null,
      "metadata": {
        "colab": {
          "base_uri": "https://localhost:8080/",
          "height": 701
        },
        "id": "rXCrNcx2OONp",
        "outputId": "ac1c733b-286c-47e0-bc21-b844d8485d4a"
      },
      "outputs": [],
      "source": [
        "# Sort the correlation matrix by correlation values\n",
        "correlation_matrix = results_df[['Column', 'Cramers_V']].sort_values(by='Cramers_V', ascending=False)\n",
        "\n",
        "# Set the \"Column\" column as the index and drop it\n",
        "correlation_matrix.set_index('Column', drop=True, inplace=True)\n",
        "\n",
        "# Plot the heatmap\n",
        "plt.figure(figsize=(5, 7))\n",
        "sns.heatmap(correlation_matrix[['Cramers_V']], cmap='coolwarm', annot=True, fmt=\".3f\", linewidths=0.5)\n",
        "plt.title('Cramér\\'s V Heatmap')\n",
        "plt.xlabel('Categorical Features')\n",
        "plt.ylabel('Categorical Features')\n",
        "\n",
        "plt.show()"
      ]
    },
    {
      "cell_type": "markdown",
      "metadata": {
        "id": "3p2iTolHCHqz"
      },
      "source": [
        "# Data Preprocessing"
      ]
    },
    {
      "cell_type": "code",
      "execution_count": null,
      "metadata": {
        "id": "6zeA5YNX-LwI"
      },
      "outputs": [],
      "source": [
        "df_prep = df_eda.copy()"
      ]
    },
    {
      "cell_type": "markdown",
      "metadata": {
        "id": "A5k7vGUlBcL8"
      },
      "source": [
        "## Label Encoding\n",
        "\n",
        "---\n",
        "\n"
      ]
    },
    {
      "cell_type": "code",
      "execution_count": null,
      "metadata": {
        "colab": {
          "base_uri": "https://localhost:8080/",
          "height": 143
        },
        "id": "2SwT7Zh0Bej9",
        "outputId": "8ba3c99a-0bcb-41ec-90ef-d6fe668df6e0"
      },
      "outputs": [],
      "source": [
        "# Education\n",
        "education_mapping = {'primary': 0, 'secondary': 1, 'tertiary': 2, 'unknown': 3}\n",
        "\n",
        "df_prep['education'] = df_prep['education'].map(education_mapping)\n",
        "df_prep[['education']].sample(3)"
      ]
    },
    {
      "cell_type": "code",
      "execution_count": null,
      "metadata": {
        "colab": {
          "base_uri": "https://localhost:8080/",
          "height": 143
        },
        "id": "Cu3KuPFeCHFs",
        "outputId": "24a7fad1-9b46-415c-8a79-9b7943b0ebc6"
      },
      "outputs": [],
      "source": [
        "# Default, Housing, Loan, Subscribed\n",
        "binary_mapping = {'no': 0, 'yes': 1}\n",
        "\n",
        "df_prep['default'] = df_prep['default'].map(binary_mapping)\n",
        "df_prep['housing'] = df_prep['housing'].map(binary_mapping)\n",
        "df_prep['loan'] = df_prep['loan'].map(binary_mapping)\n",
        "df_prep['subscribed'] = df_prep['subscribed'].map(binary_mapping)\n",
        "\n",
        "df_prep[['default', 'housing', 'loan', 'subscribed']].sample(3)"
      ]
    },
    {
      "cell_type": "code",
      "execution_count": null,
      "metadata": {
        "colab": {
          "base_uri": "https://localhost:8080/",
          "height": 143
        },
        "id": "S8APIaG7CNA6",
        "outputId": "ec1d2349-deb5-4f49-ef03-f34ec2eef4c7"
      },
      "outputs": [],
      "source": [
        "# Month\n",
        "month_mapping = {'jan': 0, 'feb': 1, 'mar': 2, 'apr': 3, 'may': 4, 'jun': 5, 'jul': 6, 'aug': 7, 'sep': 8, 'oct': 9, 'nov': 10, 'dec': 11}\n",
        "\n",
        "df_prep['month'] = df_prep['month'].map(month_mapping)\n",
        "df_prep[['month']].sample(3)"
      ]
    },
    {
      "cell_type": "code",
      "execution_count": null,
      "metadata": {
        "colab": {
          "base_uri": "https://localhost:8080/",
          "height": 143
        },
        "id": "sD-SsmmvCU1C",
        "outputId": "1acda56f-6612-49e0-f204-2b3881b0a288"
      },
      "outputs": [],
      "source": [
        "# Poutcome\n",
        "\n",
        "poutcome_mapping = {\"failure\": 0, \"unknown\": 1, \"other\": 2, \"success\": 3}\n",
        "df_prep['poutcome'] = df_prep['poutcome'].map(poutcome_mapping)\n",
        "df_prep[['poutcome']].sample(3)"
      ]
    },
    {
      "cell_type": "markdown",
      "metadata": {
        "id": "uNyHS-EVBfGZ"
      },
      "source": [
        "## One-Hot Encoding\n",
        "\n",
        "---\n",
        "\n"
      ]
    },
    {
      "cell_type": "code",
      "execution_count": null,
      "metadata": {
        "id": "MQwaG2J2B27I"
      },
      "outputs": [],
      "source": [
        "# Contact, Marital, Job\n",
        "\n",
        "# List of features to one-hot encode\n",
        "features_to_encode = ['contact', 'marital', 'job']\n",
        "\n",
        "# Perform one-hot encoding for each feature\n",
        "for feature in features_to_encode:\n",
        "    # Perform one-hot encoding\n",
        "    df_prep = pd.get_dummies(df_prep, columns=[feature])"
      ]
    },
    {
      "cell_type": "code",
      "execution_count": null,
      "metadata": {
        "colab": {
          "base_uri": "https://localhost:8080/",
          "height": 244
        },
        "id": "IX4mBBsCCgwr",
        "outputId": "b50fd95b-b4a4-4117-b9dd-f60bad74565e"
      },
      "outputs": [],
      "source": [
        "df_prep.head()"
      ]
    },
    {
      "cell_type": "code",
      "execution_count": null,
      "metadata": {
        "colab": {
          "base_uri": "https://localhost:8080/"
        },
        "id": "O0sWfQu8FYFT",
        "outputId": "38fffb29-4e9f-4b30-b68b-1f56af7e00f0"
      },
      "outputs": [],
      "source": [
        "df_prep.info()"
      ]
    },
    {
      "cell_type": "code",
      "execution_count": null,
      "metadata": {
        "id": "VMZ73v3AFbks"
      },
      "outputs": [],
      "source": [
        "df_prep.to_csv('./preprocessed_data.csv', header=False)"
      ]
    },
    {
      "cell_type": "code",
      "execution_count": null,
      "metadata": {
        "id": "h9A1F8f-Fjx-"
      },
      "outputs": [],
      "source": [
        "df_prep = pd.read_csv('/content/Predictive-Modeling-for-Term-Deposit-Subscription-in-Bank-Marketing/dataset/preprocessed_data.csv')"
      ]
    },
    {
      "cell_type": "markdown",
      "metadata": {
        "id": "WdjRXVkPCJVq"
      },
      "source": [
        "# Modeling"
      ]
    },
    {
      "cell_type": "markdown",
      "metadata": {
        "id": "nQKJuNwsIyEj"
      },
      "source": [
        "## Preparation\n",
        "\n",
        "---\n",
        "\n"
      ]
    },
    {
      "cell_type": "code",
      "execution_count": null,
      "metadata": {
        "id": "iz9yI9TnIGwR"
      },
      "outputs": [],
      "source": [
        "X = df_prep.drop(columns=['subscribed'])\n",
        "y = df_prep[['subscribed']]"
      ]
    },
    {
      "cell_type": "code",
      "execution_count": null,
      "metadata": {
        "id": "HqoUWCjkIMiS"
      },
      "outputs": [],
      "source": [
        "# Split the data into training and testing sets\n",
        "X_train, X_test, y_train, y_test = train_test_split(X, y, test_size=0.2, random_state=42)"
      ]
    },
    {
      "cell_type": "code",
      "execution_count": null,
      "metadata": {
        "id": "GYCqk8ujIsQY"
      },
      "outputs": [],
      "source": [
        "sc_X = StandardScaler()\n",
        "X_train = sc_X.fit_transform(X_train)\n",
        "X_test = sc_X.transform(X_test)"
      ]
    },
    {
      "cell_type": "code",
      "execution_count": null,
      "metadata": {
        "id": "iSBjxQJeH4B7"
      },
      "outputs": [],
      "source": [
        "def eval_classification(model, X_train, X_test, y_train, y_test, n_splits=5):\n",
        "    # Evaluate on the test set\n",
        "    y_pred_test = model.predict(X_test)\n",
        "\n",
        "    # StratifiedKFold for cross-validation with stratified sampling\n",
        "    cv = StratifiedKFold(n_splits=n_splits, shuffle=True, random_state=42)\n",
        "\n",
        "    # Perform cross-validation\n",
        "    cv_test_results = cross_validate(model, X_test, y_test, scoring=['roc_auc'],\n",
        "                                     cv=cv, return_train_score=False)\n",
        "    cv_train_results = cross_validate(model, X_train, y_train, scoring=['roc_auc'],\n",
        "                                      cv=cv, return_train_score=False)\n",
        "\n",
        "\n",
        "    # Calculate metrics for the test set\n",
        "    precision_test = round(precision_score(y_test, y_pred_test),2)\n",
        "    recall_test = round(recall_score(y_test, y_pred_test),2)\n",
        "    f1_test = round(f1_score(y_test, y_pred_test),2)\n",
        "\n",
        "    # Display metrics for the training set\n",
        "    print(\"Metrics for the Test Set:\")\n",
        "    print(\"Precision: %.2f\" % precision_test)\n",
        "    print(\"Recall: %.2f\" % recall_test)\n",
        "    print(\"F1-Score: %.2f\" % f1_test)\n",
        "    print()\n",
        "\n",
        "    # Display cross-validation results\n",
        "    print(\"Metrics Using Cross Validation:\")\n",
        "    print(f\"Mean ROC-AUC (Test): {cv_test_results['test_roc_auc'].mean():.2f}\")\n",
        "    print(f\"Std ROC-AUC (Test): {cv_test_results['test_roc_auc'].std():.2f}\")\n",
        "    print()\n",
        "    print(f\"Mean ROC-AUC (Train): {cv_train_results['test_roc_auc'].mean():.2f}\")\n",
        "    print(f\"Std ROC-AUC (Train): {cv_train_results['test_roc_auc'].std():.2f}\")\n",
        "\n",
        "    return precision_test, recall_test, f1_test"
      ]
    },
    {
      "cell_type": "code",
      "execution_count": null,
      "metadata": {
        "id": "9WGxaLlWK3fc"
      },
      "outputs": [],
      "source": [
        "# Save the trained model to a specific path\n",
        "MODEL_PATH = '/content/base_model/'"
      ]
    },
    {
      "cell_type": "markdown",
      "metadata": {
        "id": "Jm4ngd59I0cT"
      },
      "source": [
        "## Logistic Regression"
      ]
    },
    {
      "cell_type": "code",
      "execution_count": null,
      "metadata": {
        "colab": {
          "base_uri": "https://localhost:8080/",
          "height": 75
        },
        "id": "zl3-ZN3YCARF",
        "outputId": "eb10baf2-4232-461e-ad24-cf63811a64ee"
      },
      "outputs": [],
      "source": [
        "log_clf = LogisticRegression()\n",
        "log_clf.fit(X_train, y_train)"
      ]
    },
    {
      "cell_type": "code",
      "execution_count": null,
      "metadata": {
        "colab": {
          "base_uri": "https://localhost:8080/"
        },
        "id": "_0EyXxA9KtJW",
        "outputId": "f109874f-5063-4efb-fe74-5934aab7c95b"
      },
      "outputs": [],
      "source": [
        "log_pred = log_clf.predict(X_test)\n",
        "joblib.dump(log_clf, MODEL_PATH + 'log.pkl')\n",
        "\n",
        "precision_log, recall_log, f1_log = eval_classification(log_clf, X_train, X_test, y_train, y_test)"
      ]
    },
    {
      "cell_type": "markdown",
      "metadata": {
        "id": "-fyXWR_RI2jy"
      },
      "source": [
        "## KNN\n",
        "\n",
        "---\n",
        "\n"
      ]
    },
    {
      "cell_type": "code",
      "execution_count": null,
      "metadata": {
        "colab": {
          "base_uri": "https://localhost:8080/",
          "height": 75
        },
        "id": "Halb0iZvI7zd",
        "outputId": "642cf6f1-0713-44d1-e74e-82b1b50bae85"
      },
      "outputs": [],
      "source": [
        "knn_clf = KNeighborsClassifier()\n",
        "knn_clf.fit(X_train, y_train)"
      ]
    },
    {
      "cell_type": "code",
      "execution_count": null,
      "metadata": {
        "colab": {
          "base_uri": "https://localhost:8080/"
        },
        "id": "_KYlNbq3LmdQ",
        "outputId": "61ba13b0-d2ec-4b6b-f5ed-d1eb3871cc14"
      },
      "outputs": [],
      "source": [
        "knn_pred = knn_clf.predict(X_test)\n",
        "joblib.dump(knn_clf, MODEL_PATH + 'knn.pkl')\n",
        "\n",
        "precision_knn, recall_knn, f1_knn = eval_classification(knn_clf, X_train, X_test, y_train, y_test)"
      ]
    },
    {
      "cell_type": "markdown",
      "metadata": {
        "id": "fUZmr0tbI8Ni"
      },
      "source": [
        "## SVM\n",
        "\n",
        "---\n",
        "\n"
      ]
    },
    {
      "cell_type": "code",
      "execution_count": null,
      "metadata": {
        "colab": {
          "base_uri": "https://localhost:8080/",
          "height": 75
        },
        "id": "_C2P2dIkI-cw",
        "outputId": "ba2b7c77-9c2f-401e-b4ab-6fd1806d941e"
      },
      "outputs": [],
      "source": [
        "svc_clf = SVC()\n",
        "svc_clf.fit(X_train, y_train)"
      ]
    },
    {
      "cell_type": "code",
      "execution_count": null,
      "metadata": {
        "colab": {
          "base_uri": "https://localhost:8080/"
        },
        "id": "buc52DOQL_2F",
        "outputId": "0fb7f0d2-6654-4ce4-b00f-18c3aae1d6da"
      },
      "outputs": [],
      "source": [
        "svc_pred = svc_clf.predict(X_test)\n",
        "joblib.dump(svc_clf, MODEL_PATH + 'svc.pkl')\n",
        "\n",
        "precision_svc, recall_svc, f1_svc = eval_classification(svc_clf, X_train, X_test, y_train, y_test)"
      ]
    },
    {
      "cell_type": "markdown",
      "metadata": {
        "id": "RJzQ9O3hI_Zr"
      },
      "source": [
        "## Decision Tree\n",
        "\n",
        "---\n",
        "\n"
      ]
    },
    {
      "cell_type": "code",
      "execution_count": null,
      "metadata": {
        "colab": {
          "base_uri": "https://localhost:8080/",
          "height": 75
        },
        "id": "L_9-srC5JB5X",
        "outputId": "a3ef1b8b-b814-4d3e-d953-843424604c82"
      },
      "outputs": [],
      "source": [
        "dt_clf = DecisionTreeClassifier()\n",
        "dt_clf.fit(X_train, y_train)"
      ]
    },
    {
      "cell_type": "code",
      "execution_count": null,
      "metadata": {
        "colab": {
          "base_uri": "https://localhost:8080/"
        },
        "id": "tfRSzLlQMaUw",
        "outputId": "33b6e5fc-ccf5-4372-ad3f-5cc9cd45ab6b"
      },
      "outputs": [],
      "source": [
        "dt_pred = dt_clf.predict(X_test)\n",
        "joblib.dump(dt_clf, MODEL_PATH + 'dt.pkl')\n",
        "\n",
        "precision_dt, recall_dt, f1_dt = eval_classification(dt_clf, X_train, X_test, y_train, y_test)"
      ]
    },
    {
      "cell_type": "markdown",
      "metadata": {
        "id": "HxUtUOzdJ2eO"
      },
      "source": [
        "## Random Forest\n",
        "\n",
        "---\n",
        "\n"
      ]
    },
    {
      "cell_type": "code",
      "execution_count": null,
      "metadata": {
        "colab": {
          "base_uri": "https://localhost:8080/",
          "height": 75
        },
        "id": "aE09LoulJ44F",
        "outputId": "b7c19509-9a76-41f5-b1f9-4fcce4b94f59"
      },
      "outputs": [],
      "source": [
        "rf_clf = RandomForestClassifier()\n",
        "rf_clf.fit(X_train, y_train)"
      ]
    },
    {
      "cell_type": "code",
      "execution_count": null,
      "metadata": {
        "colab": {
          "base_uri": "https://localhost:8080/"
        },
        "id": "vhnww3m0MfgW",
        "outputId": "ad7003a0-9de7-49b9-d01d-71163b7aea9a"
      },
      "outputs": [],
      "source": [
        "rf_pred = rf_clf.predict(X_test)\n",
        "joblib.dump(rf_clf, MODEL_PATH + 'rf.pkl')\n",
        "\n",
        "precision_rf, recall_rf, f1_rf = eval_classification(rf_clf, X_train, X_test, y_train, y_test)"
      ]
    },
    {
      "cell_type": "markdown",
      "metadata": {
        "id": "JjDHe79_J5Gy"
      },
      "source": [
        "## Gaussian Naive Bayes\n",
        "\n",
        "---\n",
        "\n"
      ]
    },
    {
      "cell_type": "code",
      "execution_count": null,
      "metadata": {
        "colab": {
          "base_uri": "https://localhost:8080/",
          "height": 75
        },
        "id": "H2mZGY-wJ82h",
        "outputId": "02b3f5f2-4f8b-40a9-a1fe-19b9ee6c798b"
      },
      "outputs": [],
      "source": [
        "gnb_clf = GaussianNB()\n",
        "gnb_clf.fit(X_train, y_train)"
      ]
    },
    {
      "cell_type": "code",
      "execution_count": null,
      "metadata": {
        "colab": {
          "base_uri": "https://localhost:8080/"
        },
        "id": "6yZJ2ri8Mnd_",
        "outputId": "febfd3fe-561f-4f1e-fd0f-b9192dd33864"
      },
      "outputs": [],
      "source": [
        "gnb_pred = gnb_clf.predict(X_test)\n",
        "joblib.dump(gnb_clf, MODEL_PATH + 'gnb.pkl')\n",
        "\n",
        "precision_gnb, recall_gnb, f1_gnb = eval_classification(gnb_clf, X_train, X_test, y_train, y_test)"
      ]
    },
    {
      "cell_type": "markdown",
      "metadata": {
        "id": "t2KEKDg0J9Ek"
      },
      "source": [
        "## XGBoost\n",
        "\n",
        "---\n",
        "\n"
      ]
    },
    {
      "cell_type": "code",
      "execution_count": null,
      "metadata": {
        "colab": {
          "base_uri": "https://localhost:8080/",
          "height": 248
        },
        "id": "NZHRuTatJ_Zj",
        "outputId": "0587a896-2477-4d62-8b75-7a429148fb5e"
      },
      "outputs": [],
      "source": [
        "xgb_clf = XGBClassifier()\n",
        "xgb_clf.fit(X_train, y_train)"
      ]
    },
    {
      "cell_type": "code",
      "execution_count": null,
      "metadata": {
        "colab": {
          "base_uri": "https://localhost:8080/"
        },
        "id": "BEKDn-ZeMtzR",
        "outputId": "b50f1756-f0dd-4f7c-a67c-d6b0150783a6"
      },
      "outputs": [],
      "source": [
        "xgb_pred = xgb_clf.predict(X_test)\n",
        "joblib.dump(xgb_clf, MODEL_PATH + 'xgb.pkl')\n",
        "\n",
        "precision_xgb, recall_xgb, f1_xgb = eval_classification(xgb_clf, X_train, X_test, y_train, y_test)"
      ]
    },
    {
      "cell_type": "markdown",
      "metadata": {
        "id": "w4WbDeYbKBXt"
      },
      "source": [
        "## Gradient Boosting\n",
        "\n",
        "---\n",
        "\n"
      ]
    },
    {
      "cell_type": "code",
      "execution_count": null,
      "metadata": {
        "colab": {
          "base_uri": "https://localhost:8080/",
          "height": 75
        },
        "id": "T5Z06KdjKDRB",
        "outputId": "257099cf-3d6d-40f8-c08d-ff819a676698"
      },
      "outputs": [],
      "source": [
        "gb_clf = GradientBoostingClassifier()\n",
        "gb_clf.fit(X_train, y_train)"
      ]
    },
    {
      "cell_type": "code",
      "execution_count": null,
      "metadata": {
        "colab": {
          "base_uri": "https://localhost:8080/"
        },
        "id": "cp_4qKCYM20w",
        "outputId": "921f4c83-2a30-494f-ef4f-0f2319efe150"
      },
      "outputs": [],
      "source": [
        "gb_pred = gb_clf.predict(X_test)\n",
        "joblib.dump(gb_clf, MODEL_PATH + 'gb.pkl')\n",
        "\n",
        "precision_gb, recall_gb, f1_gb = eval_classification(gb_clf, X_train, X_test, y_train, y_test)"
      ]
    },
    {
      "cell_type": "markdown",
      "metadata": {
        "id": "bpVU0HhHKHhW"
      },
      "source": [
        "## LightGBM\n",
        "\n",
        "---\n",
        "\n"
      ]
    },
    {
      "cell_type": "code",
      "execution_count": null,
      "metadata": {
        "colab": {
          "base_uri": "https://localhost:8080/",
          "height": 214
        },
        "id": "V6YZ3uXZKJ21",
        "outputId": "9c6e3732-a163-491c-f57f-50d41f99d2ca"
      },
      "outputs": [],
      "source": [
        "lgbm_clf = LGBMClassifier()\n",
        "lgbm_clf.fit(X_train, y_train)"
      ]
    },
    {
      "cell_type": "code",
      "execution_count": null,
      "metadata": {
        "colab": {
          "base_uri": "https://localhost:8080/"
        },
        "id": "awI2PdO9NFbX",
        "outputId": "31f55377-00a7-4bdb-a937-94887d0d67d5"
      },
      "outputs": [],
      "source": [
        "lgbm_pred = lgbm_clf.predict(X_test)\n",
        "joblib.dump(lgbm_clf, MODEL_PATH + 'lgbm.pkl')\n",
        "\n",
        "precision_lgbm, recall_lgbm, f1_lgbm = eval_classification(lgbm_clf, X_train, X_test, y_train, y_test)"
      ]
    },
    {
      "cell_type": "markdown",
      "metadata": {
        "id": "BWE7W16EKKJh"
      },
      "source": [
        "## CatBoost\n",
        "\n",
        "---\n",
        "\n"
      ]
    },
    {
      "cell_type": "code",
      "execution_count": null,
      "metadata": {
        "colab": {
          "base_uri": "https://localhost:8080/"
        },
        "id": "ZA9dKgmEKM7z",
        "outputId": "61f68e5c-ef25-44d1-fcfc-f45c028013b9"
      },
      "outputs": [],
      "source": [
        "cb_clf = CatBoostClassifier()\n",
        "cb_clf.fit(X_train, y_train)"
      ]
    },
    {
      "cell_type": "code",
      "execution_count": null,
      "metadata": {
        "colab": {
          "base_uri": "https://localhost:8080/"
        },
        "id": "7-wHM1zQNPq0",
        "outputId": "2939d3a8-8591-49a7-9833-73fdd15249be"
      },
      "outputs": [],
      "source": [
        "cb_pred = cb_clf.predict(X_test)\n",
        "joblib.dump(cb_clf, MODEL_PATH + 'cb.pkl')\n",
        "\n",
        "precision_cb, recall_cb, f1_cb = eval_classification(cb_clf, X_train, X_test, y_train, y_test)"
      ]
    },
    {
      "cell_type": "markdown",
      "metadata": {
        "id": "AHSiIDknKNMG"
      },
      "source": [
        "## Adaboost\n",
        "\n",
        "---\n",
        "\n"
      ]
    },
    {
      "cell_type": "code",
      "execution_count": null,
      "metadata": {
        "colab": {
          "base_uri": "https://localhost:8080/",
          "height": 75
        },
        "id": "bPMYlrU9KP3o",
        "outputId": "c0d70370-3f5a-4275-a6cb-89820b45ac3d"
      },
      "outputs": [],
      "source": [
        "ab_clf = AdaBoostClassifier()\n",
        "ab_clf.fit(X_train, y_train)"
      ]
    },
    {
      "cell_type": "code",
      "execution_count": null,
      "metadata": {
        "colab": {
          "base_uri": "https://localhost:8080/"
        },
        "id": "vGtCuHQzNZ0-",
        "outputId": "8886375b-ec7d-418c-ba79-68a5bf4a542f"
      },
      "outputs": [],
      "source": [
        "ab_pred = ab_clf.predict(X_test)\n",
        "joblib.dump(ab_clf, MODEL_PATH + 'ab.pkl')\n",
        "\n",
        "precision_ab, recall_ab, f1_ab = eval_classification(ab_clf, X_train, X_test, y_train, y_test)"
      ]
    },
    {
      "cell_type": "markdown",
      "metadata": {
        "id": "WRcQT4UkCRhC"
      },
      "source": [
        "# Evaluation"
      ]
    },
    {
      "cell_type": "markdown",
      "metadata": {
        "id": "DB_zCdD0TGeV"
      },
      "source": [
        "## Model Comparison\n",
        "\n",
        "---\n",
        "\n"
      ]
    },
    {
      "cell_type": "code",
      "execution_count": null,
      "metadata": {
        "colab": {
          "base_uri": "https://localhost:8080/",
          "height": 394
        },
        "id": "eQB7-zrECAwx",
        "outputId": "57b734c7-c5f3-4050-8944-77da246ed335"
      },
      "outputs": [],
      "source": [
        "# Define model names and corresponding metrics\n",
        "models = ['Logistic Regression', 'KNN', 'SVC', 'Decision Tree', 'Random Forest',\n",
        "          'Gaussian NB', 'XGBoost', 'Gradient Boosting', 'LGBM', 'CatBoost', 'AdaBoost']\n",
        "precisions = [precision_log, precision_knn, precision_svc, precision_dt, precision_rf,\n",
        "              precision_gnb, precision_xgb, precision_gb, precision_lgbm, precision_cb, precision_ab]\n",
        "recalls = [recall_log, recall_knn, recall_svc, recall_dt, recall_rf,\n",
        "           recall_gnb, recall_xgb, recall_gb, recall_lgbm, recall_cb, recall_ab]\n",
        "f1_scores = [f1_log, f1_knn, f1_svc, f1_dt, f1_rf, f1_gnb, f1_xgb, f1_gb, f1_lgbm, f1_cb, f1_ab]\n",
        "\n",
        "# Create DataFrame\n",
        "metrics_df = pd.DataFrame({'Model': models, 'Precision': precisions, 'Recall': recalls, 'F1-Score': f1_scores}).sort_values('F1-Score', ascending=False)\n",
        "\n",
        "# Display the DataFrame\n",
        "metrics_df"
      ]
    },
    {
      "cell_type": "markdown",
      "metadata": {
        "id": "fKE0-8hSSeJ7"
      },
      "source": [
        "LightGBM (LGBM) akan dipilih sebagai model yang digunakan didasarkan pada nilai F1-score tertinggi dibandingkan dengan model-model lainnya dalam daftar. F1-score adalah ukuran gabungan dari precision dan recall, yang berarti nilai F1-score yang tinggi menunjukkan keseimbangan antara kedua metrik tersebut."
      ]
    },
    {
      "cell_type": "markdown",
      "metadata": {
        "id": "lSVMHG6CTIx2"
      },
      "source": [
        "## Optimization\n",
        "\n",
        "---\n",
        "\n"
      ]
    },
    {
      "cell_type": "code",
      "execution_count": null,
      "metadata": {
        "id": "GLk3yoB6TKJ8"
      },
      "outputs": [],
      "source": [
        "# Define the LightGBM model\n",
        "def create_lgbm_model(n_estimators, learning_rate, max_depth, min_child_weight, subsample, colsample_bytree):\n",
        "    model = LGBMClassifier(n_estimators=int(n_estimators),\n",
        "                           learning_rate=learning_rate,\n",
        "                           max_depth=int(max_depth),\n",
        "                           min_child_weight=min_child_weight,\n",
        "                           subsample=subsample,\n",
        "                           colsample_bytree=colsample_bytree,\n",
        "                           random_state=42)\n",
        "    return model"
      ]
    },
    {
      "cell_type": "code",
      "execution_count": null,
      "metadata": {
        "id": "pv_CKUq_UStZ"
      },
      "outputs": [],
      "source": [
        "# Define the objective function to optimize\n",
        "def objective(n_estimators, learning_rate, max_depth, min_child_weight, subsample, colsample_bytree):\n",
        "    model = create_lgbm_model(n_estimators, learning_rate, max_depth, min_child_weight, subsample, colsample_bytree)\n",
        "    model.fit(X_train, y_train)\n",
        "    y_pred = model.predict(X_test)\n",
        "    f1 = f1_score(y_test, y_pred, average='binary')\n",
        "    return f1"
      ]
    },
    {
      "cell_type": "code",
      "execution_count": null,
      "metadata": {
        "id": "smzqUreHTziY"
      },
      "outputs": [],
      "source": [
        "# Define the search space for hyperparameters\n",
        "pbounds = {'n_estimators': (50, 500),\n",
        "          'learning_rate': (0.01, 0.3),\n",
        "          'max_depth': (3, 15),\n",
        "          'min_child_weight': (1, 10),\n",
        "          'subsample': (0.5, 1),\n",
        "          'colsample_bytree': (0.5, 1)}"
      ]
    },
    {
      "cell_type": "code",
      "execution_count": null,
      "metadata": {
        "colab": {
          "base_uri": "https://localhost:8080/"
        },
        "id": "-OfQVSj_TwVg",
        "outputId": "0e5873d3-8f92-4f01-f5ca-3c4c822ccb8e"
      },
      "outputs": [],
      "source": [
        "# Perform Bayesian optimization\n",
        "optimizer = BayesianOptimization(f=objective, pbounds=pbounds, verbose=2)\n",
        "optimizer.maximize(init_points=5, n_iter=100)"
      ]
    },
    {
      "cell_type": "code",
      "execution_count": null,
      "metadata": {
        "colab": {
          "base_uri": "https://localhost:8080/"
        },
        "id": "oUbVD9FLUmpw",
        "outputId": "fe88bbd6-50ae-40c0-b312-e40581e32b93"
      },
      "outputs": [],
      "source": [
        "# Print the optimized hyperparameters and F1 Score\n",
        "print('Optimized hyperparameters:')\n",
        "print(optimizer.max['params'])\n",
        "print('F1 Score: {:.2f}%'.format(optimizer.max['target'] * 100))"
      ]
    },
    {
      "cell_type": "markdown",
      "metadata": {
        "id": "-20IKtTrVNx7"
      },
      "source": [
        "## Model Result\n",
        "\n",
        "---\n",
        "\n"
      ]
    },
    {
      "cell_type": "code",
      "execution_count": null,
      "metadata": {
        "id": "JukEQrH0WPfo"
      },
      "outputs": [],
      "source": [
        "MODEL_PATH = '/content/best_model/'"
      ]
    },
    {
      "cell_type": "code",
      "execution_count": null,
      "metadata": {
        "id": "tqBm1DP7WlP7"
      },
      "outputs": [],
      "source": [
        "# Define the optimized hyperparameters\n",
        "optimized_params = {\n",
        "    'colsample_bytree': 0.9189486441541788,\n",
        "    'learning_rate': 0.05313304063365639,\n",
        "    'max_depth': int(14.708706776984497),\n",
        "    'min_child_weight': 6.64071495254778,\n",
        "    'n_estimators': int(350.33109950160144),\n",
        "    'subsample': 0.7208687584446896,\n",
        "    'num_leaves': 31\n",
        "}"
      ]
    },
    {
      "cell_type": "code",
      "execution_count": null,
      "metadata": {
        "colab": {
          "base_uri": "https://localhost:8080/",
          "height": 300
        },
        "id": "-DelQTPqWIcp",
        "outputId": "64f995a9-d8fd-48a7-cb24-494d7760772d"
      },
      "outputs": [],
      "source": [
        "best_lgbm_clf = LGBMClassifier(**optimized_params)\n",
        "best_lgbm_clf.fit(X_train, y_train)"
      ]
    },
    {
      "cell_type": "code",
      "execution_count": null,
      "metadata": {
        "id": "aLYpwd7QVQIE"
      },
      "outputs": [],
      "source": [
        "lgbm_pred = best_lgbm_clf.predict(X_test)\n",
        "joblib.dump(best_lgbm_clf, MODEL_PATH + 'lgbm.pkl')\n",
        "y_pred = best_lgbm_clf.predict(X_test)"
      ]
    },
    {
      "cell_type": "code",
      "execution_count": null,
      "metadata": {
        "colab": {
          "base_uri": "https://localhost:8080/"
        },
        "id": "s_ZCrotXWud8",
        "outputId": "8879d90e-d344-41cc-a846-005cfc754a23"
      },
      "outputs": [],
      "source": [
        "# Calculate precision, recall, and F1-score\n",
        "precision_best_lgbm = precision_score(y_test, y_pred)\n",
        "recall_best_lgbm = recall_score(y_test, y_pred)\n",
        "f1_best_lgbm = f1_score(y_test, y_pred)\n",
        "\n",
        "print(\"Precision (LightGBM): {:.2f}\".format(precision_lgbm))\n",
        "print(\"Recall (LightGBM): {:.2f}\".format(recall_lgbm))\n",
        "print(\"F1 Score (LightGBM): {:.2f}\".format(f1_lgbm))"
      ]
    },
    {
      "cell_type": "markdown",
      "metadata": {
        "id": "NHgSX8NlVTit"
      },
      "source": [
        "## Feature Importance\n",
        "\n",
        "---\n",
        "\n"
      ]
    },
    {
      "cell_type": "code",
      "execution_count": null,
      "metadata": {
        "id": "e_ph2DxNaESN"
      },
      "outputs": [],
      "source": [
        "# Remove the \"subscribed\" column from the DataFrame\n",
        "df_feat = df_prep.drop(columns=[\"subscribed\"])"
      ]
    },
    {
      "cell_type": "code",
      "execution_count": null,
      "metadata": {
        "id": "kBHtPNYvVVeo"
      },
      "outputs": [],
      "source": [
        "# Calculate SHAP values\n",
        "explainer = shap.TreeExplainer(best_lgbm_clf)\n",
        "shap_values = explainer.shap_values(X_test)"
      ]
    },
    {
      "cell_type": "code",
      "execution_count": null,
      "metadata": {
        "colab": {
          "base_uri": "https://localhost:8080/",
          "height": 951
        },
        "id": "kxHtRBdzY36R",
        "outputId": "862cfd43-06dd-4266-c04e-efcc48348acd"
      },
      "outputs": [],
      "source": [
        "# Summarize the effects of features\n",
        "shap.summary_plot(shap_values, X_test, feature_names=list(df_feat.columns))"
      ]
    },
    {
      "cell_type": "markdown",
      "metadata": {
        "id": "xdyGNR9OVQYc"
      },
      "source": [
        "## Error Analysis\n",
        "\n",
        "---\n",
        "\n"
      ]
    },
    {
      "cell_type": "code",
      "execution_count": null,
      "metadata": {
        "id": "2e-eJhvvanYN"
      },
      "outputs": [],
      "source": [
        "subscribed = df_prep.pop('subscribed')\n",
        "df_prep['subscribed'] = subscribed\n",
        "\n",
        "X_columns = df_prep.drop('subscribed', axis=1).columns"
      ]
    },
    {
      "cell_type": "code",
      "execution_count": null,
      "metadata": {
        "colab": {
          "base_uri": "https://localhost:8080/",
          "height": 244
        },
        "id": "-XGPxCwGcnjd",
        "outputId": "5dae7f61-fadb-4679-e0ed-12a8f7f07ee4"
      },
      "outputs": [],
      "source": [
        "# Convert X_train and X_test to DataFrames\n",
        "df_X_train = pd.DataFrame(X_train, columns=X_columns)\n",
        "df_X_test = pd.DataFrame(X_test, columns=X_columns)\n",
        "\n",
        "# Create DataFrames for y_train, y_test, and y_pred\n",
        "df_y_train = pd.DataFrame(y_train, columns=['subscribed'])\n",
        "df_y_test = pd.DataFrame(y_test, columns=['subscribed'])\n",
        "\n",
        "# Reset indices\n",
        "df_X_train.reset_index(drop=True, inplace=True)\n",
        "df_X_test.reset_index(drop=True, inplace=True)\n",
        "df_y_train.reset_index(drop=True, inplace=True)\n",
        "df_y_test.reset_index(drop=True, inplace=True)\n",
        "\n",
        "# Combine all DataFrames into one DataFrame for training and testing\n",
        "df_mod_train = pd.concat([df_X_train, df_y_train], axis=1)\n",
        "df_mod_test = pd.concat([df_X_test, df_y_test], axis=1)\n",
        "\n",
        "# Combine training and testing DataFrames into one\n",
        "df_mod = pd.concat([df_mod_train, df_mod_test], axis=0)\n",
        "\n",
        "df_mod.head()"
      ]
    },
    {
      "cell_type": "code",
      "execution_count": null,
      "metadata": {
        "colab": {
          "base_uri": "https://localhost:8080/",
          "height": 261
        },
        "id": "J7yI3ykMbk28",
        "outputId": "0ba48aa2-c546-4243-e9fb-1e4a05351a21"
      },
      "outputs": [],
      "source": [
        "# Make predictions on all data in df_mod without 'subscribed' column\n",
        "y_pred_all = best_lgbm_clf.predict(df_mod.drop('subscribed', axis=1))\n",
        "\n",
        "# Add the predicted values as a new column to df_mod\n",
        "df_mod['predicted_label'] = y_pred_all\n",
        "df_mod.head()"
      ]
    },
    {
      "cell_type": "code",
      "execution_count": null,
      "metadata": {
        "colab": {
          "base_uri": "https://localhost:8080/",
          "height": 244
        },
        "id": "sBME9uBvVSWb",
        "outputId": "3983a6ee-64c5-4fac-f3ea-a778c6ccac14"
      },
      "outputs": [],
      "source": [
        "df_err = df_mod[df_mod['subscribed'] != df_mod['predicted_label']]\n",
        "df_err.head()"
      ]
    },
    {
      "cell_type": "code",
      "execution_count": null,
      "metadata": {
        "colab": {
          "base_uri": "https://localhost:8080/",
          "height": 1000
        },
        "id": "5yE__6K3hrAp",
        "outputId": "6d543c9a-c11d-4aa6-c9a2-1ec4236c40cd"
      },
      "outputs": [],
      "source": [
        "# Calculate the number of rows and columns needed\n",
        "num_features = len(df_err.columns[:-2])  # Exclude target and predicted label\n",
        "num_cols = 3\n",
        "num_rows = math.ceil(num_features / num_cols)\n",
        "\n",
        "# Create a grid of subplots\n",
        "fig, axes = plt.subplots(num_rows, num_cols, figsize=(15, 5*num_rows))\n",
        "\n",
        "# Flatten the axes array for easy iteration\n",
        "axes = axes.flatten()\n",
        "\n",
        "# Plot KDE plots for each feature\n",
        "for i, feature in enumerate(df_err.columns[:-2]):  # Exclude target and predicted label\n",
        "    ax = axes[i]\n",
        "    sns.kdeplot(data=df_err[feature], color='blue', label='Misclassified', shade=True, ax=ax)\n",
        "    ax.set_title(f'KDE Plot of {feature}')\n",
        "    ax.set_xlabel(feature)\n",
        "    ax.set_ylabel('Density')\n",
        "\n",
        "# Hide empty subplots\n",
        "for j in range(num_features, num_rows * num_cols):\n",
        "    axes[j].axis('off')\n",
        "\n",
        "plt.tight_layout()\n",
        "plt.show()"
      ]
    },
    {
      "cell_type": "markdown",
      "metadata": {
        "id": "X3DAu2CMCS__"
      },
      "source": [
        "# Recommendation"
      ]
    },
    {
      "cell_type": "markdown",
      "metadata": {
        "id": "bdqx8qIrVc6R"
      },
      "source": [
        "## Technical\n",
        "\n",
        "---\n",
        "\n"
      ]
    },
    {
      "cell_type": "markdown",
      "metadata": {
        "id": "9e2gAHZTjVgo"
      },
      "source": [
        "\n",
        "Seek additional, more diverse datasets to enhance the variety and representation of the user population.\n",
        "Conduct an in-depth review of the features used in the model to ensure their relevance and alignment with the desired targets.\n",
        "Further explore data processing techniques that can improve model performance."
      ]
    },
    {
      "cell_type": "markdown",
      "metadata": {
        "id": "8K4JZ97FVfRz"
      },
      "source": [
        "## Business\n",
        "\n",
        "---\n",
        "\n"
      ]
    },
    {
      "cell_type": "markdown",
      "metadata": {
        "id": "SfjhpZy2jUAK"
      },
      "source": [
        "Utilize insights from the model to design more targeted marketing campaigns, focusing on customers with a high likelihood of subscribing.\n",
        "Enhance customer retention strategies by leveraging insights from the model to understand the factors that influence customers' subscription decisions."
      ]
    }
  ],
  "metadata": {
    "accelerator": "GPU",
    "colab": {
      "gpuType": "T4",
      "provenance": []
    },
    "kernelspec": {
      "display_name": "Python 3",
      "name": "python3"
    },
    "language_info": {
      "codemirror_mode": {
        "name": "ipython",
        "version": 3
      },
      "file_extension": ".py",
      "mimetype": "text/x-python",
      "name": "python",
      "nbconvert_exporter": "python",
      "pygments_lexer": "ipython3",
      "version": "3.12.1"
    }
  },
  "nbformat": 4,
  "nbformat_minor": 0
}
